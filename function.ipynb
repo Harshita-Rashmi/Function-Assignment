{
 "cells": [
  {
   "cell_type": "markdown",
   "id": "57527cf1",
   "metadata": {},
   "source": [
    "FUNCTIONS ASSIGNMENT :-"
   ]
  },
  {
   "cell_type": "markdown",
   "id": "c60607a6",
   "metadata": {},
   "source": [
    "1. What is the difference between a function and a method in Python?\n",
    "\n",
    "\n",
    "- Function: A standalone piece of code that can be called independently.\n",
    "\n",
    "def greet():\n",
    "    print(\"Hello!\")  \n",
    "greet() \n",
    "\n",
    "\n",
    "\n",
    "\n",
    "- Method: A function defined inside a class and called on its object.\n",
    "\n",
    "\n",
    "class Dog:\n",
    "    def bark(self):\n",
    "        print(\"Woof!\")  \n",
    "my_dog = Dog()\n",
    "my_dog.bark()  \n",
    "\n",
    "\n"
   ]
  },
  {
   "cell_type": "markdown",
   "metadata": {},
   "source": [
    "2.  Explain the concept of function arguments and parameters in Python?\n",
    "\n",
    "\n",
    "Parameters are placeholders; arguments are the real values you pass in.\n",
    "\n",
    "\n",
    "def add(a, b):  # a and b are parameters\n",
    "    return a + b\n",
    "\n",
    "result = add(5, 3)  # 5 and 3 are arguments\n",
    "print(result)  \n",
    "\n",
    "\n",
    "- Positional arguments – Assigned based on position.\n",
    "\n",
    "- Keyword arguments – Assigned by name, not position.\n",
    "\n",
    "- Default arguments – Parameters with default values.\n",
    "\n",
    "- Variable-length arguments – Accept any number of inputs.\n"
   ]
  },
  {
   "cell_type": "markdown",
   "metadata": {},
   "source": [
    "3.\n",
    "\n",
    "- Regular Function Definition\n",
    "def greet(name):\n",
    "    print(f\"Hello, {name}!\")\n",
    "\n",
    "greet(\"Harshita\")\n",
    "\n",
    "\n",
    "\n",
    "- Function with Default Arguments\n",
    "\n",
    "\n",
    "def greet(name=\"Friend\"):\n",
    "    print(f\"Hello, {name}!\")\n",
    "\n",
    "greet()  # Uses default\n",
    "greet(\"Harshita\")  # Overrides default\n",
    "\n",
    "\n",
    "- Function with Keyword Arguments\n",
    "\n",
    "\n",
    "def intro(name, age):\n",
    "    print(f\"My name is {name}, I'm {age} years old.\")\n",
    "\n",
    "intro(age=21, name=\"Harshita\")\n",
    "\n",
    "\n",
    "\n",
    "\n",
    "\n"
   ]
  },
  {
   "cell_type": "markdown",
   "metadata": {},
   "source": [
    "4.  What is the purpose of the `return` statement in a Python function?\n",
    "\n",
    "\n",
    "\n",
    "Purpose of return in Python Functions:\n",
    "\n",
    "- Send back a result: It outputs the result of the function to wherever it was called.\n",
    "- End the function execution: Once return is hit, the function stops running.\n",
    "- Pass data to other parts: You can store the returned value and use it elsewhere.\n",
    "\n",
    "\n",
    "def add(a, b):\n",
    "    return a + b  \n",
    "\n",
    "sum_result = add(3, 5)\n",
    "print(sum_result)  \n"
   ]
  },
  {
   "cell_type": "markdown",
   "id": "7cd0aeba",
   "metadata": {},
   "source": [
    "5.   What are iterators in Python and how do they differ from iterables?\n",
    "\n",
    "\n",
    "Iterable:\n",
    "\n",
    "nums = [1, 2, 3]\n",
    "for n in nums:\n",
    "    print(n)\n",
    "\n",
    "\n",
    "Iterator:\n",
    "nums = [1, 2, 3]\n",
    "it = iter(nums)  # Makes an iterator from the iterable\n",
    "print(next(it))  \n",
    "print(next(it)) \n",
    "print(next(it))  \n",
    "\n",
    "\n",
    "\n"
   ]
  },
  {
   "cell_type": "markdown",
   "id": "5b28a6e6",
   "metadata": {},
   "source": [
    "6.\n",
    "\n",
    "\n",
    "Generators are special functions that allow you to generate values one at a time using the yield keyword, instead of building and returning a full list at once. They’re memory-efficient and perfect for handling large datasets or streams.\n",
    "\n",
    "Key Traits of Generators :\n",
    "\n",
    "- Use yield instead of return.\n",
    "- Maintain their internal state, so they resume where they left off.\n",
    "- Can be looped over just like lists or other iterables.\n",
    "- Created using normal function syntax, but with yield.\n",
    "\n",
    "\n",
    "def countdown(n):\n",
    "    while n > 0:\n",
    "        yield n  # Pauses and returns n\n",
    "        n -= 1\n",
    "\n",
    "\n"
   ]
  },
  {
   "cell_type": "markdown",
   "metadata": {},
   "source": [
    "7.  What are the advantages of using generators over regular functions?\n",
    "\n",
    "\n",
    "a. Memory Efficiency \n",
    "- Generators produce values one at a time.\n",
    "- Unlike regular functions that return entire lists, generators don’t store all values in memory.\n",
    "\n",
    "b. Lazy Evaluation \n",
    "- Values are generated only when needed.\n",
    "- Saves CPU cycles by not computing everything upfront.\n",
    "\n",
    "gen = gen_numbers()\n",
    "print(next(gen))  \n",
    "\n",
    "\n",
    "\n",
    "\n",
    "c. Improves Performance in Loops \n",
    "\n",
    "- You can loop over generators without slowdown.\n",
    "- Especially helpful in long-running processes or big data tasks.\n",
    "\n",
    "\n",
    "\n"
   ]
  },
  {
   "cell_type": "markdown",
   "metadata": {},
   "source": [
    "8.\n",
    "\n",
    "A lambda function is a small, anonymous function defined using the lambda keyword. It can take multiple arguments but has only one expression, which it evaluates and returns.\n",
    "\n",
    "\n",
    "\n",
    "square = lambda x: x * x\n",
    "print(square(5))\n"
   ]
  },
  {
   "cell_type": "markdown",
   "metadata": {},
   "source": [
    "9.  Explain the purpose and usage of the `map()` function in Python.\n",
    "\n",
    "\n",
    "The map() function applies a given function to each item of an iterable (like a list, tuple, etc.)\n",
    "\n",
    "\n",
    "nums = [1, 2, 3, 4]\n",
    "squared = map(lambda x: x * x, nums)\n",
    "print(list(squared))  "
   ]
  },
  {
   "cell_type": "markdown",
   "metadata": {},
   "source": [
    "10. What is the difference between `map()`, `reduce()`, and `filter()` functions in Python?\n",
    "\n",
    "\n",
    "\n",
    "In Python, map(), reduce(), and filter() are built-in functions that facilitate functional programming, each serving a distinct purpose in data processing. \n",
    "\n",
    "The map() function is used to apply a given function to every element of an iterable, returning a new iterable with the transformed results—for instance, squaring all numbers in a list. \n",
    "\n",
    "On the other hand, filter() selects elements from an iterable that satisfy a specified condition, effectively \"filtering out\" unwanted data, like retaining only even numbers from a sequence. \n",
    "Meanwhile, reduce() (imported from the functools module) performs a cumulative operation on an iterable by successively applying a function to pairs of elements, ultimately collapsing the entire dataset into a single value—useful for operations like summing or multiplying all values. \n",
    "\n",
    "Together, these functions allow for concise, expressive data transformations without explicit loops, making your code cleaner and often more efficient.\n",
    "\n",
    "\n"
   ]
  },
  {
   "cell_type": "markdown",
   "metadata": {},
   "source": [
    "11.\n",
    "\n",
    "\n",
    "Using pen & Paper write the internal mechanism for sum operation using  reduce function on this given list:[47,11,42,13]; \n",
    "\n",
    "\n",
    "\n",
    "\n",
    "Answer link =  https://drive.google.com/file/d/1owmmp771fosXxe4SEqobE7i7K-k6usZj/view?usp=sharing\n"
   ]
  },
  {
   "cell_type": "markdown",
   "id": "1f92dcc5",
   "metadata": {},
   "source": [
    "- PRACTICAL QUESTIONS :-"
   ]
  },
  {
   "cell_type": "code",
   "execution_count": 5,
   "id": "84a55bca",
   "metadata": {},
   "outputs": [
    {
     "name": "stdout",
     "output_type": "stream",
     "text": [
      "12\n"
     ]
    }
   ],
   "source": [
    "# 1.  Write a Python function that takes a list of numbers as input and returns the sum of all even numbers in\n",
    "#the list.\n",
    "\n",
    "def sum_even_numbers(numbers):\n",
    "    return sum(num for num in numbers if num % 2 == 0)\n",
    "my_list = [1, 2, 3, 4, 5, 6]\n",
    "result = sum_even_numbers(my_list)\n",
    "print(result)"
   ]
  },
  {
   "cell_type": "code",
   "execution_count": null,
   "id": "0577147f",
   "metadata": {},
   "outputs": [],
   "source": [
    "# 2.  Create a Python function that accepts a string and returns the reverse of that string.\n",
    "\n",
    "\n",
    "def reverse_string(text):\n",
    "    return text[::-1]\n",
    "input_str = \"Harshita\"\n",
    "reversed_str = reverse_string(input_str)\n",
    "print(reversed_str)  "
   ]
  },
  {
   "cell_type": "code",
   "execution_count": 6,
   "id": "da2aae26",
   "metadata": {},
   "outputs": [
    {
     "name": "stdout",
     "output_type": "stream",
     "text": [
      "[1, 4, 9, 16, 25]\n"
     ]
    }
   ],
   "source": [
    "# 3.\n",
    "\n",
    "\n",
    "def square_numbers(numbers):\n",
    "    return [num ** 2 for num in numbers]\n",
    "my_list = [1, 2, 3, 4, 5]\n",
    "squared_list = square_numbers(my_list)\n",
    "print(squared_list)  "
   ]
  },
  {
   "cell_type": "code",
   "execution_count": 9,
   "id": "a366e094",
   "metadata": {},
   "outputs": [
    {
     "name": "stdout",
     "output_type": "stream",
     "text": [
      "2 is prime\n",
      "3 is prime\n",
      "5 is prime\n",
      "7 is prime\n",
      "11 is prime\n",
      "13 is prime\n",
      "17 is prime\n",
      "19 is prime\n",
      "23 is prime\n",
      "29 is prime\n",
      "31 is prime\n",
      "37 is prime\n",
      "41 is prime\n",
      "43 is prime\n",
      "47 is prime\n",
      "53 is prime\n",
      "59 is prime\n",
      "61 is prime\n",
      "67 is prime\n",
      "71 is prime\n",
      "73 is prime\n",
      "79 is prime\n",
      "83 is prime\n",
      "89 is prime\n",
      "97 is prime\n",
      "101 is prime\n",
      "103 is prime\n",
      "107 is prime\n",
      "109 is prime\n",
      "113 is prime\n",
      "127 is prime\n",
      "131 is prime\n",
      "137 is prime\n",
      "139 is prime\n",
      "149 is prime\n",
      "151 is prime\n",
      "157 is prime\n",
      "163 is prime\n",
      "167 is prime\n",
      "173 is prime\n",
      "179 is prime\n",
      "181 is prime\n",
      "191 is prime\n",
      "193 is prime\n",
      "197 is prime\n",
      "199 is prime\n"
     ]
    }
   ],
   "source": [
    "# 4.  Write a Python function that checks if a given number is prime or not from 1 to 200.\n",
    "\n",
    "\n",
    "def is_prime(n):\n",
    "    if n < 2:\n",
    "        return False\n",
    "    for i in range(2, int(n ** 0.5) + 1):\n",
    "        if n % i == 0:\n",
    "            return False\n",
    "    return True\n",
    "for num in range(1, 201):\n",
    "    if is_prime(num):\n",
    "        print(f\"{num} is prime\")"
   ]
  },
  {
   "cell_type": "code",
   "execution_count": 10,
   "id": "6530b606",
   "metadata": {},
   "outputs": [
    {
     "name": "stdout",
     "output_type": "stream",
     "text": [
      "0\n",
      "1\n",
      "1\n",
      "2\n",
      "3\n",
      "5\n",
      "8\n",
      "13\n",
      "21\n",
      "34\n"
     ]
    }
   ],
   "source": [
    "# 5. \n",
    "\n",
    "\n",
    "class FibonacciIterator:\n",
    "    def __init__(self, max_terms):\n",
    "        self.max_terms = max_terms\n",
    "        self.count = 0\n",
    "        self.a = 0\n",
    "        self.b = 1\n",
    "\n",
    "    def __iter__(self):\n",
    "        return self\n",
    "\n",
    "    def __next__(self):\n",
    "        if self.count >= self.max_terms:\n",
    "            raise StopIteration\n",
    "        value = self.a\n",
    "        self.a, self.b = self.b, self.a + self.b\n",
    "        self.count += 1\n",
    "        return value\n",
    "fib = FibonacciIterator(10)\n",
    "for num in fib:\n",
    "    print(num)"
   ]
  },
  {
   "cell_type": "code",
   "execution_count": 11,
   "id": "11e193f1",
   "metadata": {},
   "outputs": [
    {
     "name": "stdout",
     "output_type": "stream",
     "text": [
      "1\n",
      "2\n",
      "4\n",
      "8\n",
      "16\n",
      "32\n"
     ]
    }
   ],
   "source": [
    "# 6.  Write a generator function in Python that yields the powers of 2 up to a given exponent.\n",
    "\n",
    "\n",
    "\n",
    "def powers_of_two(max_exponent):\n",
    "    for i in range(max_exponent + 1):\n",
    "        yield 2 ** i\n",
    "for val in powers_of_two(5):\n",
    "    print(val)        \n"
   ]
  },
  {
   "cell_type": "code",
   "execution_count": 12,
   "id": "fce6005f",
   "metadata": {},
   "outputs": [
    {
     "name": "stdout",
     "output_type": "stream",
     "text": [
      "[(3, 1), (5, 2), (2, 3), (1, 4)]\n"
     ]
    }
   ],
   "source": [
    "# 8. Use a lambda function in Python to sort a list of tuples based on the second element of each tuple.\n",
    "\n",
    "\n",
    "\n",
    "\n",
    "\n",
    "data = [(1, 4), (3, 1), (5, 2), (2, 3)]\n",
    "sorted_data = sorted(data, key=lambda x: x[1])\n",
    "print(sorted_data)\n"
   ]
  },
  {
   "cell_type": "code",
   "execution_count": 21,
   "id": "edd9d037",
   "metadata": {},
   "outputs": [
    {
     "ename": "FileNotFoundError",
     "evalue": "[Errno 2] No such file or directory: 'sample.txt'",
     "output_type": "error",
     "traceback": [
      "\u001b[1;31m---------------------------------------------------------------------------\u001b[0m",
      "\u001b[1;31mFileNotFoundError\u001b[0m                         Traceback (most recent call last)",
      "Cell \u001b[1;32mIn[21], line 8\u001b[0m\n\u001b[0;32m      6\u001b[0m         \u001b[38;5;28;01mfor\u001b[39;00m line \u001b[38;5;129;01min\u001b[39;00m file:\n\u001b[0;32m      7\u001b[0m             \u001b[38;5;28;01myield\u001b[39;00m line\n\u001b[1;32m----> 8\u001b[0m \u001b[38;5;28;01mfor\u001b[39;00m text \u001b[38;5;129;01min\u001b[39;00m read_lines(\u001b[38;5;124m\"\u001b[39m\u001b[38;5;124msample.txt\u001b[39m\u001b[38;5;124m\"\u001b[39m):\n\u001b[0;32m      9\u001b[0m     \u001b[38;5;28mprint\u001b[39m(text)\n",
      "Cell \u001b[1;32mIn[21], line 5\u001b[0m, in \u001b[0;36mread_lines\u001b[1;34m(filename)\u001b[0m\n\u001b[0;32m      4\u001b[0m \u001b[38;5;28;01mdef\u001b[39;00m \u001b[38;5;21mread_lines\u001b[39m(filename):\n\u001b[1;32m----> 5\u001b[0m     \u001b[38;5;28;01mwith\u001b[39;00m \u001b[38;5;28mopen\u001b[39m(filename, \u001b[38;5;124m'\u001b[39m\u001b[38;5;124mr\u001b[39m\u001b[38;5;124m'\u001b[39m) \u001b[38;5;28;01mas\u001b[39;00m file:\n\u001b[0;32m      6\u001b[0m         \u001b[38;5;28;01mfor\u001b[39;00m line \u001b[38;5;129;01min\u001b[39;00m file:\n\u001b[0;32m      7\u001b[0m             \u001b[38;5;28;01myield\u001b[39;00m line\n",
      "File \u001b[1;32mc:\\Users\\DELL\\anaconda3\\Lib\\site-packages\\IPython\\core\\interactiveshell.py:324\u001b[0m, in \u001b[0;36m_modified_open\u001b[1;34m(file, *args, **kwargs)\u001b[0m\n\u001b[0;32m    317\u001b[0m \u001b[38;5;28;01mif\u001b[39;00m file \u001b[38;5;129;01min\u001b[39;00m {\u001b[38;5;241m0\u001b[39m, \u001b[38;5;241m1\u001b[39m, \u001b[38;5;241m2\u001b[39m}:\n\u001b[0;32m    318\u001b[0m     \u001b[38;5;28;01mraise\u001b[39;00m \u001b[38;5;167;01mValueError\u001b[39;00m(\n\u001b[0;32m    319\u001b[0m         \u001b[38;5;124mf\u001b[39m\u001b[38;5;124m\"\u001b[39m\u001b[38;5;124mIPython won\u001b[39m\u001b[38;5;124m'\u001b[39m\u001b[38;5;124mt let you open fd=\u001b[39m\u001b[38;5;132;01m{\u001b[39;00mfile\u001b[38;5;132;01m}\u001b[39;00m\u001b[38;5;124m by default \u001b[39m\u001b[38;5;124m\"\u001b[39m\n\u001b[0;32m    320\u001b[0m         \u001b[38;5;124m\"\u001b[39m\u001b[38;5;124mas it is likely to crash IPython. If you know what you are doing, \u001b[39m\u001b[38;5;124m\"\u001b[39m\n\u001b[0;32m    321\u001b[0m         \u001b[38;5;124m\"\u001b[39m\u001b[38;5;124myou can use builtins\u001b[39m\u001b[38;5;124m'\u001b[39m\u001b[38;5;124m open.\u001b[39m\u001b[38;5;124m\"\u001b[39m\n\u001b[0;32m    322\u001b[0m     )\n\u001b[1;32m--> 324\u001b[0m \u001b[38;5;28;01mreturn\u001b[39;00m io_open(file, \u001b[38;5;241m*\u001b[39margs, \u001b[38;5;241m*\u001b[39m\u001b[38;5;241m*\u001b[39mkwargs)\n",
      "\u001b[1;31mFileNotFoundError\u001b[0m: [Errno 2] No such file or directory: 'sample.txt'"
     ]
    }
   ],
   "source": [
    "# 7.  Implement a generator function that reads a file line by line and yields each line as a string.\n",
    "\n",
    "\n",
    "def read_lines(filename):\n",
    "    with open(filename, 'r') as file:\n",
    "        for line in file:\n",
    "            yield line\n",
    "for text in read_lines(\"sample.txt\"):\n",
    "    print(text)\n"
   ]
  },
  {
   "cell_type": "code",
   "execution_count": 22,
   "id": "89b8c6ff",
   "metadata": {},
   "outputs": [
    {
     "name": "stdout",
     "output_type": "stream",
     "text": [
      "Temperatures in Fahrenheit: [32.0, 50.0, 68.0, 86.0, 104.0]\n"
     ]
    }
   ],
   "source": [
    "# 9. Write a Python program that uses `map()` to convert a list of temperatures from Celsius to Fahrenheit.\n",
    "\n",
    "\n",
    "\n",
    "celsius_temps = [0, 10, 20, 30, 40]\n",
    "\n",
    "\n",
    "fahrenheit_temps = list(map(lambda c: (c * 9/5) + 32, celsius_temps))\n",
    "\n",
    "print(\"Temperatures in Fahrenheit:\", fahrenheit_temps)"
   ]
  },
  {
   "cell_type": "code",
   "execution_count": null,
   "id": "3b170366",
   "metadata": {},
   "outputs": [
    {
     "name": "stdout",
     "output_type": "stream",
     "text": [
      "Hll, Pythn Wrld!\n"
     ]
    }
   ],
   "source": [
    "# 10.Create a Python program that uses `filter()` to remove all the vowels from a given string.\n",
    "\n",
    "\n",
    "def remove_vowels(text):\n",
    "    vowels = \"aeiouAEIOU\"\n",
    "    return \"\".join(filter(lambda ch: ch not in vowels, text))\n",
    "input_str = \"Hello, Python World!\"\n",
    "result = remove_vowels(input_str)\n",
    "print(result)  \n"
   ]
  },
  {
   "cell_type": "code",
   "execution_count": 24,
   "id": "26217799",
   "metadata": {},
   "outputs": [
    {
     "name": "stdout",
     "output_type": "stream",
     "text": [
      "[(34587, 163.8), (98762, 284.0), (77226, 108.85000000000001), (88112, 84.97)]\n"
     ]
    }
   ],
   "source": [
    "# 11.\n",
    "\n",
    "orders = [\n",
    "    [34587, \"Learning Python, Mark Lutz\", 4, 40.95],\n",
    "    [98762, \"Programming Python, Mark Lutz\", 5, 56.80],\n",
    "    [77226, \"Head First Python, Paul Barry\", 3, 32.95],\n",
    "    [88112, \"Einführung in Python3, Bernd Klein\", 3, 24.99]\n",
    "]\n",
    "\n",
    "result = list(map(lambda order: (order[0], order[2] * order[3] + (10 if order[2] * order[3] < 100 else 0)), orders))\n",
    "\n",
    "print(result)\n",
    "\n",
    "\n",
    "\n",
    "\n",
    "\n",
    "\n",
    "\n",
    "\n"
   ]
  }
 ],
 "metadata": {
  "kernelspec": {
   "display_name": "base",
   "language": "python",
   "name": "python3"
  },
  "language_info": {
   "codemirror_mode": {
    "name": "ipython",
    "version": 3
   },
   "file_extension": ".py",
   "mimetype": "text/x-python",
   "name": "python",
   "nbconvert_exporter": "python",
   "pygments_lexer": "ipython3",
   "version": "3.12.4"
  }
 },
 "nbformat": 4,
 "nbformat_minor": 5
}
